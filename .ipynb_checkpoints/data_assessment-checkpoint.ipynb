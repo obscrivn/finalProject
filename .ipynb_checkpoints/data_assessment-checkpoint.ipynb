{
 "cells": [
  {
   "cell_type": "code",
   "execution_count": null,
   "metadata": {
    "collapsed": true
   },
   "outputs": [],
   "source": [
    "# @BEGIN data_assessement @desc Assess quality of dataset\n",
    "# @in farmersmarket\n",
    "# @out report @desc Assessement report"
   ]
  },
  {
   "cell_type": "code",
   "execution_count": 2,
   "metadata": {
    "collapsed": true
   },
   "outputs": [],
   "source": [
    "import pandas as pd\n",
    "# @begin data_load @desc Load csv data\n",
    "dataset = pd.read_csv('farmersmarkets.csv')\n",
    "# @in farmersmarket_dataset @as farmersmarket\n",
    "# @out dataset"
   ]
  },
  {
   "cell_type": "code",
   "execution_count": 76,
   "metadata": {
    "collapsed": false
   },
   "outputs": [
    {
     "name": "stdout",
     "output_type": "stream",
     "text": [
      "N of row: 8687 ; N of columns 59\n"
     ]
    }
   ],
   "source": [
    "# @begin table_assessment @des Assess length, uniqueness, null values, types\n",
    "print('N of row:',len(dataset),'; N of columns',len(dataset.columns))"
   ]
  },
  {
   "cell_type": "code",
   "execution_count": 66,
   "metadata": {
    "collapsed": false
   },
   "outputs": [],
   "source": [
    "types = pd.DataFrame(data=dataset.dtypes)\n",
    "types['name']= list(types.index)\n",
    "types = types.rename(index=str, columns={0: \"object\"})\n"
   ]
  },
  {
   "cell_type": "code",
   "execution_count": 69,
   "metadata": {
    "collapsed": false
   },
   "outputs": [
    {
     "data": {
      "text/plain": [
       "object\n",
       "int64       1\n",
       "float64     2\n",
       "object     56\n",
       "Name: name, dtype: int64"
      ]
     },
     "execution_count": 69,
     "metadata": {},
     "output_type": "execute_result"
    }
   ],
   "source": [
    "types.groupby(['object'])['name'].count()"
   ]
  },
  {
   "cell_type": "code",
   "execution_count": 3,
   "metadata": {
    "collapsed": false
   },
   "outputs": [
    {
     "data": {
      "text/plain": [
       "FMID                0\n",
       "MarketName          0\n",
       "Website          3475\n",
       "Facebook         4756\n",
       "Twitter          7672\n",
       "Youtube          8508\n",
       "OtherMedia       7962\n",
       "street            290\n",
       "city               39\n",
       "County            515\n",
       "State               0\n",
       "zip               944\n",
       "Season1Date      3208\n",
       "Season1Time      3050\n",
       "Season2Date      8238\n",
       "Season2Time      8250\n",
       "Season3Date      8606\n",
       "Season3Time      8610\n",
       "Season4Date      8681\n",
       "Season4Time      8681\n",
       "x                  29\n",
       "y                  29\n",
       "Location         5958\n",
       "Credit              0\n",
       "WIC                 0\n",
       "WICcash             0\n",
       "SFMNP               0\n",
       "SNAP                0\n",
       "Organic             0\n",
       "Bakedgoods       2933\n",
       "Cheese           2933\n",
       "Crafts           2933\n",
       "Flowers          2933\n",
       "Eggs             2933\n",
       "Seafood          2933\n",
       "Herbs            2933\n",
       "Vegetables       2933\n",
       "Honey            2933\n",
       "Jams             2933\n",
       "Maple            2933\n",
       "Meat             2933\n",
       "Nursery          2933\n",
       "Nuts             2933\n",
       "Plants           2933\n",
       "Poultry          2933\n",
       "Prepared         2933\n",
       "Soap             2933\n",
       "Trees            2933\n",
       "Wine             2933\n",
       "Coffee           2933\n",
       "Beans            2933\n",
       "Fruits           2933\n",
       "Grains           2933\n",
       "Juices           2933\n",
       "Mushrooms        2933\n",
       "PetFood          2933\n",
       "Tofu             2933\n",
       "WildHarvested    2933\n",
       "updateTime          0\n",
       "dtype: int64"
      ]
     },
     "execution_count": 3,
     "metadata": {},
     "output_type": "execute_result"
    }
   ],
   "source": [
    "dataset.isnull().sum()"
   ]
  },
  {
   "cell_type": "code",
   "execution_count": 30,
   "metadata": {
    "collapsed": false
   },
   "outputs": [
    {
     "name": "stdout",
     "output_type": "stream",
     "text": [
      "['Y' 'N']\n",
      "['Y' 'N']\n",
      "['N' 'Y']\n",
      "['Y' 'N']\n",
      "['N' 'Y']\n",
      "['Y' '-' 'N']\n",
      "['Y' nan 'N']\n",
      "['Y' 'N' nan]\n",
      "['Y' nan 'N']\n",
      "['Y' nan 'N']\n",
      "['Y' nan 'N']\n",
      "['N' nan 'Y']\n",
      "['Y' nan 'N']\n",
      "['Y' nan 'N']\n",
      "['Y' nan 'N']\n",
      "['Y' nan 'N']\n",
      "['Y' nan 'N']\n",
      "['Y' 'N' nan]\n",
      "['N' nan 'Y']\n",
      "['N' nan 'Y']\n",
      "['N' nan 'Y']\n",
      "['Y' nan 'N']\n",
      "['Y' 'N' nan]\n",
      "['Y' nan 'N']\n",
      "['Y' 'N' nan]\n",
      "['N' nan 'Y']\n",
      "['Y' 'N' nan]\n",
      "['Y' 'N' nan]\n",
      "['Y' nan 'N']\n",
      "['N' nan 'Y']\n",
      "['N' nan 'Y']\n",
      "['Y' 'N' nan]\n",
      "['Y' 'N' nan]\n",
      "['N' nan 'Y']\n",
      "['N' nan 'Y']\n"
     ]
    }
   ],
   "source": [
    "for i in range(23, 58):\n",
    "        print(dataset.iloc[:,i].unique())"
   ]
  },
  {
   "cell_type": "code",
   "execution_count": 37,
   "metadata": {
    "collapsed": false
   },
   "outputs": [],
   "source": [
    "dataset.FMID = dataset.FMID.astype(str)"
   ]
  },
  {
   "cell_type": "code",
   "execution_count": 40,
   "metadata": {
    "collapsed": false
   },
   "outputs": [
    {
     "data": {
      "text/plain": [
       "8687"
      ]
     },
     "execution_count": 40,
     "metadata": {},
     "output_type": "execute_result"
    }
   ],
   "source": [
    "len(dataset.FMID.unique().tolist())"
   ]
  },
  {
   "cell_type": "code",
   "execution_count": 9,
   "metadata": {
    "collapsed": false
   },
   "outputs": [
    {
     "data": {
      "text/plain": [
       "array(['Y', 'N'], dtype=object)"
      ]
     },
     "execution_count": 9,
     "metadata": {},
     "output_type": "execute_result"
    }
   ],
   "source": [
    "dataset.Credit.unique()"
   ]
  },
  {
   "cell_type": "code",
   "execution_count": null,
   "metadata": {
    "collapsed": true
   },
   "outputs": [],
   "source": []
  }
 ],
 "metadata": {
  "kernelspec": {
   "display_name": "Python 3",
   "language": "python",
   "name": "python3"
  },
  "language_info": {
   "codemirror_mode": {
    "name": "ipython",
    "version": 3
   },
   "file_extension": ".py",
   "mimetype": "text/x-python",
   "name": "python",
   "nbconvert_exporter": "python",
   "pygments_lexer": "ipython3",
   "version": "3.6.3"
  }
 },
 "nbformat": 4,
 "nbformat_minor": 2
}
